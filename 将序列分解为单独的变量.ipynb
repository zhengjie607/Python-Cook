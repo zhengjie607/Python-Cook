{
 "cells": [
  {
   "cell_type": "code",
   "execution_count": 3,
   "metadata": {},
   "outputs": [
    {
     "name": "stdout",
     "output_type": "stream",
     "text": [
      "4\n",
      "5\n"
     ]
    }
   ],
   "source": [
    "#任何序列都可以通过一个简单的赋值操作\n",
    "#变量的总数和结构要与序列吻合\n",
    "p=(4,5)\n",
    "x,y=p\n",
    "print(x)\n",
    "print(y)"
   ]
  },
  {
   "cell_type": "code",
   "execution_count": 4,
   "metadata": {},
   "outputs": [
    {
     "name": "stdout",
     "output_type": "stream",
     "text": [
      "Dave\n",
      "dave@example.com\n",
      "['777-555-1212', '847-555-1212']\n"
     ]
    }
   ],
   "source": [
    "#‘*表达式’是一个列表，可以容纳分解出来多余的部分\n",
    "record=('Dave','dave@example.com','777-555-1212','847-555-1212')\n",
    "name,email,*phone_num=record\n",
    "print(name)\n",
    "print(email)\n",
    "print(phone_num)\n",
    "#'*表达式'可以放任何位置"
   ]
  },
  {
   "cell_type": "code",
   "execution_count": 5,
   "metadata": {},
   "outputs": [
    {
     "name": "stdout",
     "output_type": "stream",
     "text": [
      "Acme\n",
      "2012\n"
     ]
    }
   ],
   "source": [
    "#待丢弃变量名，可以用_表示\n",
    "record_second=('Acme',50,123.45,(12,18,2012))\n",
    "name,*_,(*_,year)=record_second\n",
    "print(name)\n",
    "print(year)"
   ]
  },
  {
   "cell_type": "code",
   "execution_count": null,
   "metadata": {},
   "outputs": [],
   "source": []
  }
 ],
 "metadata": {
  "kernelspec": {
   "display_name": "Python 3",
   "language": "python",
   "name": "python3"
  },
  "language_info": {
   "codemirror_mode": {
    "name": "ipython",
    "version": 3
   },
   "file_extension": ".py",
   "mimetype": "text/x-python",
   "name": "python",
   "nbconvert_exporter": "python",
   "pygments_lexer": "ipython3",
   "version": "3.6.5"
  }
 },
 "nbformat": 4,
 "nbformat_minor": 2
}
