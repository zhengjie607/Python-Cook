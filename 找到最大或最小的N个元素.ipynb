{
 "cells": [
  {
   "cell_type": "code",
   "execution_count": 1,
   "metadata": {},
   "outputs": [
    {
     "name": "stdout",
     "output_type": "stream",
     "text": [
      "[77, 66, 8]\n",
      "[1, 2]\n"
     ]
    }
   ],
   "source": [
    "import heapq\n",
    "nums=[1,5,8,7,3,2,5,4,8,77,5,66,4]\n",
    "Max3=heapq.nlargest(3,nums)\n",
    "Min2=heapq.nsmallest(2,nums)\n",
    "print(Max3)\n",
    "print(Min2)"
   ]
  },
  {
   "cell_type": "code",
   "execution_count": 6,
   "metadata": {},
   "outputs": [
    {
     "name": "stdout",
     "output_type": "stream",
     "text": [
      "[{'name': 'YHOO', 'shares': 45, 'price': 16.35}, {'name': 'FB', 'shares': 200, 'price': 21.09}]\n"
     ]
    }
   ],
   "source": [
    "portfolio=[\n",
    "    {'name':'IBM','shares':100,'price':91.1},\n",
    "    {'name':'APPL','shares':50,'price':543.22},\n",
    "    {'name':'FB','shares':200,'price':21.09},\n",
    "    {'name':'HPQ','shares':35,'price':31.75},\n",
    "    {'name':'YHOO','shares':45,'price':16.35},\n",
    "    {'name':'ACME','shares':75,'price':115.65}\n",
    "]\n",
    "cheap=heapq.nsmallest(2,portfolio,key=lambda s:s['price'])\n",
    "print(cheap)"
   ]
  },
  {
   "cell_type": "code",
   "execution_count": null,
   "metadata": {},
   "outputs": [],
   "source": []
  }
 ],
 "metadata": {
  "kernelspec": {
   "display_name": "Python 3",
   "language": "python",
   "name": "python3"
  },
  "language_info": {
   "codemirror_mode": {
    "name": "ipython",
    "version": 3
   },
   "file_extension": ".py",
   "mimetype": "text/x-python",
   "name": "python",
   "nbconvert_exporter": "python",
   "pygments_lexer": "ipython3",
   "version": "3.6.5"
  }
 },
 "nbformat": 4,
 "nbformat_minor": 2
}
