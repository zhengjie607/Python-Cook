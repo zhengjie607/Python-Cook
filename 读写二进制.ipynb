{
 "cells": [
  {
   "cell_type": "code",
   "execution_count": 1,
   "metadata": {},
   "outputs": [
    {
     "data": {
      "text/plain": [
       "'\\nimport struct\\nstruct模块中最重要的三个函数是pack(), unpack(), calcsize()\\n\\npack(fmt, v1, v2, ...)     按照给定的格式(fmt)，把数据封装成字符串(实际上是类似于c结构体的字节流)\\n\\nunpack(fmt, string)       按照给定的格式(fmt)解析字节流string，返回解析出来的tuple\\n\\ncalcsize(fmt)                 计算给定的格式(fmt)占用多少字节的内存\\n\\nFormat     C Type              Python               字节数\\nx          pad byte            no value               1\\nc          char                string of length 1     1\\nb          signed char         integer                1\\nB          unsigned char       integer                1\\n?          _Bool               bool                   1\\nh          short               integer                2\\nH          unsigned short      integer                2\\ni          int                 integer                4\\nI          unsigned int        integer or long        4\\nl          long                integer                4\\nL          unsigned long       long                   4\\nq          long long           long                   8\\nQ          unsigned long long  long                   8\\nf          float               float                  4\\nd          double              float                  8\\ns          char[]              string                 1\\np          char[]              string                 1\\nP          void *              long\\n\\n注1.q和Q只在机器支持64位操作时有意思\\n\\n注2.每个格式前可以有一个数字，表示个数\\n\\n注3.s格式表示一定长度的字符串，4s表示长度为4的字符串，但是p表示的是pascal字符串\\n\\n注4.P用来转换一个指针，其长度和机器字长相关\\n\\n注5.最后一个可以用来表示指针类型的，占4个字节\\n\\n默认情况下，pack是使用本地C库的字节顺序来编码的。格式化字符串的第一个字符可以用来表示填充数据的字节顺序、大小和对齐方式，如下表所描述的:\\n\\nCharacter  Byte order                Size       Alignment\\n@          本地                      本地       本地 \\n=          本地                      standard   none \\n<          little-endian（小字节序） standard   none \\n>          big-endian（大字节序）    standard   none \\n!          network (= big-endian)    standard   none \\n\\n'"
      ]
     },
     "execution_count": 1,
     "metadata": {},
     "output_type": "execute_result"
    }
   ],
   "source": [
    "'''\n",
    "import struct\n",
    "struct模块中最重要的三个函数是pack(), unpack(), calcsize()\n",
    "\n",
    "pack(fmt, v1, v2, ...)     按照给定的格式(fmt)，把数据封装成字符串(实际上是类似于c结构体的字节流)\n",
    "\n",
    "unpack(fmt, string)       按照给定的格式(fmt)解析字节流string，返回解析出来的tuple\n",
    "\n",
    "calcsize(fmt)                 计算给定的格式(fmt)占用多少字节的内存\n",
    "\n",
    "Format     C Type              Python               字节数\n",
    "x          pad byte            no value               1\n",
    "c          char                string of length 1     1\n",
    "b          signed char         integer                1\n",
    "B          unsigned char       integer                1\n",
    "?          _Bool               bool                   1\n",
    "h          short               integer                2\n",
    "H          unsigned short      integer                2\n",
    "i          int                 integer                4\n",
    "I          unsigned int        integer or long        4\n",
    "l          long                integer                4\n",
    "L          unsigned long       long                   4\n",
    "q          long long           long                   8\n",
    "Q          unsigned long long  long                   8\n",
    "f          float               float                  4\n",
    "d          double              float                  8\n",
    "s          char[]              string                 1\n",
    "p          char[]              string                 1\n",
    "P          void *              long\n",
    "\n",
    "注1.q和Q只在机器支持64位操作时有意思\n",
    "\n",
    "注2.每个格式前可以有一个数字，表示个数\n",
    "\n",
    "注3.s格式表示一定长度的字符串，4s表示长度为4的字符串，但是p表示的是pascal字符串\n",
    "\n",
    "注4.P用来转换一个指针，其长度和机器字长相关\n",
    "\n",
    "注5.最后一个可以用来表示指针类型的，占4个字节\n",
    "\n",
    "默认情况下，pack是使用本地C库的字节顺序来编码的。格式化字符串的第一个字符可以用来表示填充数据的字节顺序、大小和对齐方式，如下表所描述的:\n",
    "\n",
    "Character  Byte order                Size       Alignment\n",
    "@          本地                      本地       本地 \n",
    "=          本地                      standard   none \n",
    "<          little-endian（小字节序） standard   none \n",
    ">          big-endian（大字节序）    standard   none \n",
    "!          network (= big-endian)    standard   none \n",
    "\n",
    "'''"
   ]
  },
  {
   "cell_type": "code",
   "execution_count": 2,
   "metadata": {},
   "outputs": [
    {
     "name": "stdout",
     "output_type": "stream",
     "text": [
      "三角面片总个数为：14142个\n"
     ]
    }
   ],
   "source": [
    "import struct\n",
    "def read_STL_binary(f):\n",
    "    #跳过文件头\n",
    "    f.seek(80)\n",
    "    face_count=struct.unpack('<i',f.read(4))\n",
    "    print(\"三角面片总个数为：{0}个\".format(face_count[0]))\n",
    "    for _ in range(face_count[0]):\n",
    "        data=struct.unpack('<ffffffffffffH',f.read(50))\n",
    "        #print(data)\n",
    "\n",
    "with open('0.stl','rb') as f:\n",
    "    read_STL_binary(f)"
   ]
  },
  {
   "cell_type": "code",
   "execution_count": null,
   "metadata": {},
   "outputs": [],
   "source": []
  },
  {
   "cell_type": "code",
   "execution_count": null,
   "metadata": {},
   "outputs": [],
   "source": []
  },
  {
   "cell_type": "code",
   "execution_count": null,
   "metadata": {},
   "outputs": [],
   "source": []
  },
  {
   "cell_type": "code",
   "execution_count": null,
   "metadata": {},
   "outputs": [],
   "source": []
  },
  {
   "cell_type": "code",
   "execution_count": null,
   "metadata": {},
   "outputs": [],
   "source": []
  },
  {
   "cell_type": "code",
   "execution_count": null,
   "metadata": {},
   "outputs": [],
   "source": []
  },
  {
   "cell_type": "code",
   "execution_count": null,
   "metadata": {},
   "outputs": [],
   "source": []
  }
 ],
 "metadata": {
  "kernelspec": {
   "display_name": "Python 3",
   "language": "python",
   "name": "python3"
  },
  "language_info": {
   "codemirror_mode": {
    "name": "ipython",
    "version": 3
   },
   "file_extension": ".py",
   "mimetype": "text/x-python",
   "name": "python",
   "nbconvert_exporter": "python",
   "pygments_lexer": "ipython3",
   "version": "3.6.5"
  }
 },
 "nbformat": 4,
 "nbformat_minor": 2
}
