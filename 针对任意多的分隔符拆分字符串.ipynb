{
 "cells": [
  {
   "cell_type": "code",
   "execution_count": 1,
   "metadata": {},
   "outputs": [
    {
     "data": {
      "text/plain": [
       "['asdf', 'fij', 'sjie', 'fie', 'sjie', 'for']"
      ]
     },
     "execution_count": 1,
     "metadata": {},
     "output_type": "execute_result"
    }
   ],
   "source": [
    "import re\n",
    "line='asdf fij; sjie, fie,sjie,      for'\n",
    "re.split(r'[;,\\s]\\s*',line)"
   ]
  },
  {
   "cell_type": "code",
   "execution_count": 2,
   "metadata": {},
   "outputs": [
    {
     "data": {
      "text/plain": [
       "'正则表达式\\n元字符匹配：\\n\\\\d              匹配数字\\n\\\\D              匹配非数字\\n\\\\w              匹配任意单字符\\n\\\\W              匹配任意非单字符(标点符号)\\n\\\\s              匹配空白字符\\n\\\\S              匹配非空白字符\\n.               匹配任意字符\\n[...]           匹配括号中任意字符\\n^               匹配字符串的开始\\n$               匹配字符串的结尾\\n\\x08              匹配一个单词的边界\\n\\\\B              匹配一个单词的非边界部分\\n限定字符：（出现次数）\\n{n}             匹配n次字符\\n{n,}            匹配n次和n次以上字符\\n{n,m}           匹配n次以上，m次以下字符\\n?               匹配0次或1次\\n+               匹配1次或多次\\n*               匹配0次以上\\n[^...]          匹配非括号字符\\n\\n[一-龥] 匹配汉字\\n'"
      ]
     },
     "execution_count": 2,
     "metadata": {},
     "output_type": "execute_result"
    }
   ],
   "source": [
    "'''正则表达式\n",
    "元字符匹配：\n",
    "\\d              匹配数字\n",
    "\\D              匹配非数字\n",
    "\\w              匹配任意单字符\n",
    "\\W              匹配任意非单字符(标点符号)\n",
    "\\s              匹配空白字符\n",
    "\\S              匹配非空白字符\n",
    ".               匹配任意字符\n",
    "[...]           匹配括号中任意字符\n",
    "^               匹配字符串的开始\n",
    "$               匹配字符串的结尾\n",
    "\\b              匹配一个单词的边界\n",
    "\\B              匹配一个单词的非边界部分\n",
    "限定字符：（出现次数）\n",
    "{n}             匹配n次字符\n",
    "{n,}            匹配n次和n次以上字符\n",
    "{n,m}           匹配n次以上，m次以下字符\n",
    "?               匹配0次或1次\n",
    "+               匹配1次或多次\n",
    "*               匹配0次以上\n",
    "[^...]          匹配非括号字符\n",
    "\n",
    "[\\u4e00-\\u9fa5] 匹配汉字\n",
    "'''"
   ]
  },
  {
   "cell_type": "code",
   "execution_count": 3,
   "metadata": {},
   "outputs": [
    {
     "data": {
      "text/plain": [
       "['foo.c', 'spam.c', 'spam.h']"
      ]
     },
     "execution_count": 3,
     "metadata": {},
     "output_type": "execute_result"
    }
   ],
   "source": [
    "#str.startswith和str.endswith\n",
    "filenames=['Makefile','foo.c','bar.py','spam.c','spam.h']\n",
    "[name for name in filenames if name.endswith(('.c','.h'))]"
   ]
  },
  {
   "cell_type": "code",
   "execution_count": 8,
   "metadata": {},
   "outputs": [
    {
     "data": {
      "text/plain": [
       "[False, True, False, True, True]"
      ]
     },
     "execution_count": 8,
     "metadata": {},
     "output_type": "execute_result"
    }
   ],
   "source": [
    "[name.endswith(('.c','.h')) for name in filenames]"
   ]
  },
  {
   "cell_type": "code",
   "execution_count": 9,
   "metadata": {},
   "outputs": [
    {
     "data": {
      "text/plain": [
       "True"
      ]
     },
     "execution_count": 9,
     "metadata": {},
     "output_type": "execute_result"
    }
   ],
   "source": [
    "any(name.endswith(('.c','.h')) for name in filenames)"
   ]
  },
  {
   "cell_type": "code",
   "execution_count": 10,
   "metadata": {},
   "outputs": [
    {
     "data": {
      "text/plain": [
       "<_sre.SRE_Match object; span=(0, 10), match='11/27/2012'>"
      ]
     },
     "execution_count": 10,
     "metadata": {},
     "output_type": "execute_result"
    }
   ],
   "source": [
    "text1='11/27/2012'\n",
    "text2='Nov 27,2012'\n",
    "#先对正则表达式模式预编译\n",
    "datepat=re.compile(r'\\d+/\\d+/\\d+')\n",
    "datepat.match(text1)\n"
   ]
  },
  {
   "cell_type": "code",
   "execution_count": 11,
   "metadata": {},
   "outputs": [],
   "source": [
    "datepat.match(text2)"
   ]
  },
  {
   "cell_type": "code",
   "execution_count": 25,
   "metadata": {},
   "outputs": [
    {
     "data": {
      "text/plain": [
       "['11/27/2012', '3/13/2013']"
      ]
     },
     "execution_count": 25,
     "metadata": {},
     "output_type": "execute_result"
    }
   ],
   "source": [
    "#match()会从字符串的开头找到匹配项，findall()方法会对整文进行搜索，并找到匹配项\n",
    "text='Today is 11/27/2012.  PyCon starts   3/13/2013'\n",
    "datepat.findall(text)"
   ]
  },
  {
   "cell_type": "code",
   "execution_count": 26,
   "metadata": {},
   "outputs": [],
   "source": [
    "datepat.match(text)"
   ]
  },
  {
   "cell_type": "code",
   "execution_count": 27,
   "metadata": {},
   "outputs": [
    {
     "name": "stdout",
     "output_type": "stream",
     "text": [
      "[('11', '27', '2012'), ('3', '13', '2013')]\n"
     ]
    }
   ],
   "source": [
    "#引入捕获组方便单独提取\n",
    "datapat=re.compile(r'(\\d+)/(\\d+)/(\\d+)')\n",
    "m=datapat.findall(text)\n",
    "print(m)"
   ]
  },
  {
   "cell_type": "code",
   "execution_count": 28,
   "metadata": {},
   "outputs": [
    {
     "data": {
      "text/plain": [
       "'Today is 2012-27-11.  PyCon starts   2013-13-3'"
      ]
     },
     "execution_count": 28,
     "metadata": {},
     "output_type": "execute_result"
    }
   ],
   "source": [
    "#使用sub()替换，下面出现的\\3代表第三个捕获组\n",
    "datapat.sub(r'\\3-\\2-\\1',text)"
   ]
  },
  {
   "cell_type": "code",
   "execution_count": 29,
   "metadata": {},
   "outputs": [
    {
     "data": {
      "text/plain": [
       "('Today is 2012-27-11.  PyCon starts   2013-13-3', 2)"
      ]
     },
     "execution_count": 29,
     "metadata": {},
     "output_type": "execute_result"
    }
   ],
   "source": [
    "#subn()可以获得替换次数\n",
    "datapat.subn(r'\\3-\\2-\\1',text)"
   ]
  },
  {
   "cell_type": "code",
   "execution_count": null,
   "metadata": {},
   "outputs": [],
   "source": []
  }
 ],
 "metadata": {
  "kernelspec": {
   "display_name": "Python 3",
   "language": "python",
   "name": "python3"
  },
  "language_info": {
   "codemirror_mode": {
    "name": "ipython",
    "version": 3
   },
   "file_extension": ".py",
   "mimetype": "text/x-python",
   "name": "python",
   "nbconvert_exporter": "python",
   "pygments_lexer": "ipython3",
   "version": "3.6.5"
  }
 },
 "nbformat": 4,
 "nbformat_minor": 2
}
